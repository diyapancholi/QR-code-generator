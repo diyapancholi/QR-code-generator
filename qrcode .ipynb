{
 "cells": [
  {
   "cell_type": "code",
   "execution_count": 13,
   "id": "12467cdd",
   "metadata": {},
   "outputs": [
    {
     "name": "stdout",
     "output_type": "stream",
     "text": [
      "Collecting qrcode\n",
      "  Downloading qrcode-7.3.1.tar.gz (43 kB)\n",
      "     |████████████████████████████████| 43 kB 284 kB/s             \n",
      "\u001b[?25h  Preparing metadata (setup.py) ... \u001b[?25ldone\n",
      "\u001b[?25hBuilding wheels for collected packages: qrcode\n",
      "  Building wheel for qrcode (setup.py) ... \u001b[?25ldone\n",
      "\u001b[?25h  Created wheel for qrcode: filename=qrcode-7.3.1-py3-none-any.whl size=40402 sha256=daaffbd8971c2f09b61186bddc463794cab2ab36b63c05e55be37c7d3078293a\n",
      "  Stored in directory: /home/diyapancholi/.cache/pip/wheels/35/fd/04/2768886c56207acee0d6dc6b9bd5d06dac63a810f0c0a42516\n",
      "Successfully built qrcode\n",
      "Installing collected packages: qrcode\n",
      "Successfully installed qrcode-7.3.1\n",
      "Note: you may need to restart the kernel to use updated packages.\n"
     ]
    }
   ],
   "source": [
    "pip install qrcode"
   ]
  },
  {
   "cell_type": "code",
   "execution_count": 24,
   "id": "babdcb49",
   "metadata": {},
   "outputs": [],
   "source": [
    "def test_generate_qr_code():\n",
    "    import qrcode\n",
    "    qr = qrcode.QRCode(\n",
    "        version=1,\n",
    "        error_correction=qrcode.constants.ERROR_CORRECT_Q,\n",
    "        box_size=10,\n",
    "        border=4,\n",
    "    )\n",
    "    qr.add_data('https://seaborn.pydata.org/generated/seaborn.boxplot.html#seaborn.boxplot')\n",
    "    qr.make(fit=True)\n",
    "\n",
    "    image = qr.make_image(fill_color=\"black\", back_color=\"white\")\n",
    "    image.save('seaborn-docs.png')\n",
    "test_generate_qr_code() "
   ]
  },
  {
   "cell_type": "code",
   "execution_count": 2,
   "id": "18213b00",
   "metadata": {},
   "outputs": [],
   "source": [
    "def test_generate_qr_code():\n",
    "    import qrcode\n",
    "    qr = qrcode.QRCode(\n",
    "        version=1,\n",
    "        error_correction=qrcode.constants.ERROR_CORRECT_Q,\n",
    "        box_size=10,\n",
    "        border=4,\n",
    "    )\n",
    "    qr.add_data('https://towardsdatascience.com/exploratory-data-analysis-8fc1cb20fd15')\n",
    "    qr.make(fit=True)\n",
    "\n",
    "    image = qr.make_image(fill_color=\"black\", back_color=\"white\")\n",
    "    image.save('EDA.png')\n",
    "test_generate_qr_code() "
   ]
  },
  {
   "cell_type": "code",
   "execution_count": null,
   "id": "8ddbb04a",
   "metadata": {},
   "outputs": [],
   "source": []
  }
 ],
 "metadata": {
  "kernelspec": {
   "display_name": "Python 3 (ipykernel)",
   "language": "python",
   "name": "python3"
  },
  "language_info": {
   "codemirror_mode": {
    "name": "ipython",
    "version": 3
   },
   "file_extension": ".py",
   "mimetype": "text/x-python",
   "name": "python",
   "nbconvert_exporter": "python",
   "pygments_lexer": "ipython3",
   "version": "3.8.10"
  }
 },
 "nbformat": 4,
 "nbformat_minor": 5
}
